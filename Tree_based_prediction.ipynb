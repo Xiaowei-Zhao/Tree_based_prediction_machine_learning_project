{
 "cells": [
  {
   "cell_type": "code",
   "execution_count": 4,
   "metadata": {},
   "outputs": [],
   "source": [
    "import pandas as pd\n",
    "import numpy as np\n",
    "import random\n",
    "import matplotlib.pyplot as plt\n",
    "from sklearn.model_selection import train_test_split\n",
    "from sklearn.model_selection import cross_val_score\n",
    "from sklearn.linear_model import LinearRegression\n",
    "from sklearn.preprocessing import StandardScaler, OneHotEncoder\n",
    "from sklearn.compose import ColumnTransformer, make_column_transformer\n",
    "from sklearn.pipeline import make_pipeline\n",
    "from sklearn.impute import SimpleImputer\n",
    "from sklearn.linear_model import Ridge\n",
    "from sklearn.linear_model import Lasso\n",
    "from sklearn.linear_model import ElasticNet\n",
    "from sklearn.preprocessing import StandardScaler\n",
    "from sklearn.model_selection import GridSearchCV\n",
    "from sklearn.model_selection import validation_curve"
   ]
  },
  {
   "cell_type": "markdown",
   "metadata": {},
   "source": [
    "# Task1:"
   ]
  },
  {
   "cell_type": "markdown",
   "metadata": {},
   "source": [
    "## Load and subsample the dataset, choose 4000 rows from each data set "
   ]
  },
  {
   "cell_type": "code",
   "execution_count": 47,
   "metadata": {},
   "outputs": [],
   "source": [
    "filename = \"OP_DTL_GNRL_PGYR2017_P01182019.csv\"\n",
    "n = sum(1 for line in open(filename)) - 1 \n",
    "s = 4000 \n",
    "skip = sorted(random.sample(range(1,n+1),n-s)) \n",
    "df_no = pd.read_csv('OP_DTL_GNRL_PGYR2017_P01182019.csv', skiprows=skip)\n",
    "import warnings\n",
    "warnings.filterwarnings('ignore')\n",
    "filename = \"OP_DTL_RSRCH_PGYR2017_P01182019.csv\"\n",
    "n = sum(1 for line in open(filename)) - 1 \n",
    "s = 4000 \n",
    "skip = sorted(random.sample(range(1,n+1),n-s)) \n",
    "df_res = pd.read_csv('OP_DTL_RSRCH_PGYR2017_P01182019.csv', skiprows=skip)\n",
    "\n",
    "### this is from online"
   ]
  },
  {
   "cell_type": "code",
   "execution_count": 368,
   "metadata": {},
   "outputs": [],
   "source": [
    "df_res['research']=1\n",
    "df_no[\"research\"]=0\n",
    "df=df_no.append(df_res)"
   ]
  },
  {
   "cell_type": "markdown",
   "metadata": {},
   "source": [
    "## Keep overlapping columns and remove columns with more than 70% missing"
   ]
  },
  {
   "cell_type": "code",
   "execution_count": 369,
   "metadata": {},
   "outputs": [],
   "source": [
    "for each in list(df):\n",
    "    if each not in list(df_res):\n",
    "        df=df.drop(columns=each)\n",
    "    if each not in list(df_no):\n",
    "        df=df.drop(columns=each)"
   ]
  },
  {
   "cell_type": "code",
   "execution_count": 370,
   "metadata": {},
   "outputs": [],
   "source": [
    "for each in list(df):\n",
    "    if sum(df[each].isna())>=5600:\n",
    "        df=df.drop(columns=each)"
   ]
  },
  {
   "cell_type": "code",
   "execution_count": 371,
   "metadata": {},
   "outputs": [],
   "source": [
    "df['Applicable_Manufacturer_or_Applicable_GPO_Making_Payment_ID'] = df['Applicable_Manufacturer_or_Applicable_GPO_Making_Payment_ID'].astype(str)\n",
    "df['Physician_Profile_ID'] = df['Physician_Profile_ID'].astype(str)\n",
    "df['Record_ID'] = df['Record_ID'].astype(str)"
   ]
  },
  {
   "cell_type": "markdown",
   "metadata": {},
   "source": [
    "### remove columns with single value"
   ]
  },
  {
   "cell_type": "code",
   "execution_count": 372,
   "metadata": {},
   "outputs": [],
   "source": [
    "\n",
    "df=df.drop(columns=['Record_ID'])\n",
    "df=df.drop(columns=['Program_Year'])\n",
    "\n",
    "df=df.drop(columns=['Delay_in_Publication_Indicator','Dispute_Status_for_Publication','Payment_Publication_Date','Recipient_Country'])\n",
    "\n",
    "df=df.drop(columns=['Recipient_Primary_Business_Street_Address_Line2'])"
   ]
  },
  {
   "cell_type": "code",
   "execution_count": 373,
   "metadata": {},
   "outputs": [],
   "source": [
    "df=df.reset_index()\n",
    "df=df.drop(columns=['index'])"
   ]
  },
  {
   "cell_type": "code",
   "execution_count": 374,
   "metadata": {},
   "outputs": [],
   "source": [
    "for x in list(df) :\n",
    "    df[x]=df[x].fillna('Missing')"
   ]
  },
  {
   "cell_type": "markdown",
   "metadata": {},
   "source": [
    "## Our own target encoding method"
   ]
  },
  {
   "cell_type": "code",
   "execution_count": 170,
   "metadata": {},
   "outputs": [],
   "source": [
    "def target_encode(df,column):\n",
    "    df_test=pd.crosstab(df[column],df['research'])\n",
    "    df_test['prob']=df_test.iloc[:,1]/(df_test.iloc[:,1]+df_test.iloc[:,0])\n",
    "    \n",
    "    for i in range (0,8000):\n",
    "        x=df.loc[i,column]\n",
    "        df.loc[i,column]=df_test.loc[x]['prob']\n",
    "        \n",
    "    df[column] = df[column].astype(float)\n",
    "        \n",
    "    return df"
   ]
  },
  {
   "cell_type": "markdown",
   "metadata": {},
   "source": [
    "Here, we use \"crosstab\" to help us do target encoding. It produces the feature frequency regarding target variable. Then the function calculates the corresponding frequency of each categorical variable."
   ]
  },
  {
   "cell_type": "code",
   "execution_count": 228,
   "metadata": {},
   "outputs": [],
   "source": [
    "Cat=list(df)\n",
    "Cat=Cat[:-2]"
   ]
  },
  {
   "cell_type": "markdown",
   "metadata": {},
   "source": [
    "### target encode these categorical variables"
   ]
  },
  {
   "cell_type": "code",
   "execution_count": 132,
   "metadata": {},
   "outputs": [],
   "source": [
    "df_target_encode=df\n",
    "for cat in Cat:\n",
    "    df_target_encode=target_encode(df_target_encode,cat)"
   ]
  },
  {
   "cell_type": "markdown",
   "metadata": {},
   "source": [
    "### calculate covariance between each pair of features, and features having high covariance with target feature, is leakage. we want to remove these features and those features with very low covariance."
   ]
  },
  {
   "cell_type": "code",
   "execution_count": 134,
   "metadata": {},
   "outputs": [
    {
     "data": {
      "text/plain": [
       "Total_Amount_of_Payment_USDollars                                   1640.210552\n",
       "research                                                               0.250031\n",
       "Physician_Profile_ID                                                   0.247808\n",
       "Physician_Last_Name                                                    0.244360\n",
       "Recipient_Primary_Business_Street_Address_Line1                        0.239059\n",
       "Physician_First_Name                                                   0.236816\n",
       "Physician_Specialty                                                    0.230361\n",
       "Physician_License_State_code1                                          0.229327\n",
       "Physician_Primary_Type                                                 0.228892\n",
       "Covered_Recipient_Type                                                 0.228855\n",
       "Recipient_Zip_Code                                                     0.189406\n",
       "Name_of_Drug_or_Biological_or_Device_or_Medical_Supply_1               0.163438\n",
       "Applicable_Manufacturer_or_Applicable_GPO_Making_Payment_Name          0.159553\n",
       "Applicable_Manufacturer_or_Applicable_GPO_Making_Payment_ID            0.135969\n",
       "Recipient_City                                                         0.111838\n",
       "Product_Category_or_Therapeutic_Area_1                                 0.111516\n",
       "Associated_Drug_or_Biological_NDC_1                                    0.109312\n",
       "Submitting_Applicable_Manufacturer_or_Applicable_GPO_Name              0.103396\n",
       "Form_of_Payment_or_Transfer_of_Value                                   0.096834\n",
       "Covered_or_Noncovered_Indicator_1                                      0.032192\n",
       "Applicable_Manufacturer_or_Applicable_GPO_Making_Payment_State         0.029286\n",
       "Date_of_Payment                                                        0.028158\n",
       "Indicate_Drug_or_Biological_or_Device_or_Medical_Supply_1              0.026864\n",
       "Applicable_Manufacturer_or_Applicable_GPO_Making_Payment_Country       0.013913\n",
       "Recipient_State                                                        0.009393\n",
       "Related_Product_Indicator                                              0.006023\n",
       "Change_Type                                                            0.005082\n",
       "Name: research, dtype: float64"
      ]
     },
     "execution_count": 134,
     "metadata": {},
     "output_type": "execute_result"
    }
   ],
   "source": [
    "df_target_encode_cov=df_target_encode.cov()\n",
    "df_test=df_target_encode_cov.sort_values(by=['research'],ascending=False)\n",
    "df_test['research']"
   ]
  },
  {
   "cell_type": "markdown",
   "metadata": {},
   "source": [
    "###  leakage features:\n",
    "Physician_Profile_ID  \n",
    "Physician_Last_Name                                                   \n",
    "Recipient_Primary_Business_Street_Address_Line1                        \n",
    "Physician_First_Name                                                  \n",
    "Physician_Specialty                                                   \n",
    "Physician_License_State_code1                                          \n",
    "Physician_Primary_Type                                                \n",
    "Covered_Recipient_Type \n",
    "\n",
    "### irrelevant features:\n",
    "Recipient_State, \n",
    "Change_Type, \n",
    "Related_Product_Indicator \n",
    "\n",
    "### the rest features are relevant"
   ]
  },
  {
   "cell_type": "markdown",
   "metadata": {},
   "source": [
    "## drop above features"
   ]
  },
  {
   "cell_type": "code",
   "execution_count": 375,
   "metadata": {},
   "outputs": [],
   "source": [
    "leakage=['Physician_Profile_ID','Physician_Last_Name',\n",
    "         'Recipient_Primary_Business_Street_Address_Line1','Physician_First_Name',\n",
    "         'Physician_Specialty','Physician_License_State_code1','Physician_Primary_Type','Covered_Recipient_Type']"
   ]
  },
  {
   "cell_type": "code",
   "execution_count": 376,
   "metadata": {},
   "outputs": [],
   "source": [
    "df=df.drop(columns=leakage)"
   ]
  },
  {
   "cell_type": "code",
   "execution_count": 231,
   "metadata": {},
   "outputs": [],
   "source": [
    "irrelevant=['Recipient_State','Change_Type','Related_Product_Indicator']"
   ]
  },
  {
   "cell_type": "code",
   "execution_count": 138,
   "metadata": {},
   "outputs": [],
   "source": [
    "df_target_encode=df_target_encode.drop(columns=leakage)\n",
    "df_target_encode=df_target_encode.drop(columns=irrelevant)"
   ]
  },
  {
   "cell_type": "markdown",
   "metadata": {},
   "source": [
    "# Task 2:"
   ]
  },
  {
   "cell_type": "code",
   "execution_count": 377,
   "metadata": {},
   "outputs": [],
   "source": [
    "from sklearn.linear_model import LogisticRegression"
   ]
  },
  {
   "cell_type": "code",
   "execution_count": 378,
   "metadata": {
    "scrolled": true
   },
   "outputs": [
    {
     "name": "stdout",
     "output_type": "stream",
     "text": [
      "LogisticRegression mean cv accuracy: 0.9447\n"
     ]
    }
   ],
   "source": [
    "X_train, X_test, y_train, y_test = train_test_split(df.loc[:, df.columns != 'research'],df['research'],random_state=42)\n",
    "categorical= X_train.dtypes==object\n",
    "\n",
    "preprocess = make_column_transformer(\n",
    "    (OneHotEncoder(handle_unknown='ignore'), categorical)\n",
    "    #(StandardScaler(),~categorical)\n",
    ")\n",
    "\n",
    "linear = make_pipeline(preprocess, LogisticRegression())\n",
    "valid_scores = cross_val_score(linear, X_train, y_train,cv=10)\n",
    "print('LogisticRegression mean cv accuracy: {:.4f}'.format(np.mean(valid_scores)))"
   ]
  },
  {
   "cell_type": "markdown",
   "metadata": {},
   "source": [
    "## Task 3:"
   ]
  },
  {
   "cell_type": "markdown",
   "metadata": {},
   "source": [
    "### drop irrelevant features and add standarscaler"
   ]
  },
  {
   "cell_type": "code",
   "execution_count": 302,
   "metadata": {},
   "outputs": [],
   "source": [
    "df=df.drop(columns=irrelevant)"
   ]
  },
  {
   "cell_type": "code",
   "execution_count": 303,
   "metadata": {},
   "outputs": [
    {
     "name": "stdout",
     "output_type": "stream",
     "text": [
      "LogisticRegression mean cv accuracy: 0.9508\n"
     ]
    }
   ],
   "source": [
    "df = df.sample(frac=1)\n",
    "X_train, X_test, y_train, y_test = train_test_split(df.loc[:, df.columns != 'research'],df['research'],random_state=42)\n",
    "categorical= X_train.dtypes==object\n",
    "\n",
    "preprocess = make_column_transformer(\n",
    "    (OneHotEncoder(handle_unknown='ignore'), categorical),\n",
    "    (StandardScaler(),~categorical)\n",
    ")\n",
    "\n",
    "linear = make_pipeline(preprocess, LogisticRegression())\n",
    "valid_scores = cross_val_score(linear, X_train, y_train,cv=10)\n",
    "print('LogisticRegression mean cv accuracy: {:.4f}'.format(np.mean(valid_scores)))"
   ]
  },
  {
   "cell_type": "markdown",
   "metadata": {},
   "source": [
    "### linear model with target encoding:"
   ]
  },
  {
   "cell_type": "code",
   "execution_count": 380,
   "metadata": {},
   "outputs": [
    {
     "name": "stdout",
     "output_type": "stream",
     "text": [
      "LogisticRegression mean accuracy R2: 0.9845\n"
     ]
    }
   ],
   "source": [
    "df = df.sample(frac=1)\n",
    "X_train, X_test, y_train, y_test = train_test_split(df_target_encode.loc[:, df_target_encode.columns != 'research'],df_target_encode['research'],random_state=42)\n",
    "categorical= X_train.dtypes==object\n",
    "\n",
    "preprocess = make_column_transformer(\n",
    "    (StandardScaler(),~categorical)\n",
    ")\n",
    "\n",
    "linear = make_pipeline(preprocess, LogisticRegression())\n",
    "valid_scores = cross_val_score(linear, X_train, y_train,cv=10)\n",
    "print('LogisticRegression mean accuracy R2: {:.4f}'.format(np.mean(valid_scores)))\n"
   ]
  },
  {
   "cell_type": "markdown",
   "metadata": {},
   "source": [
    "Here target encoder imporves the accuracy of the logistic regression model. The target encoding method we build above is to calculate the frequency of each categorical feature regarding to target variable. We think it maybe better than One Hot Encoder. We will compare these two methods in the following model selection(specifically in Gradient Boosting model)"
   ]
  },
  {
   "cell_type": "code",
   "execution_count": null,
   "metadata": {},
   "outputs": [],
   "source": []
  },
  {
   "cell_type": "markdown",
   "metadata": {},
   "source": [
    "## Task 4:"
   ]
  },
  {
   "cell_type": "markdown",
   "metadata": {},
   "source": [
    "### Linear SVM:"
   ]
  },
  {
   "cell_type": "code",
   "execution_count": 341,
   "metadata": {},
   "outputs": [
    {
     "name": "stdout",
     "output_type": "stream",
     "text": [
      "Linear SVC(with default parameter) mean of CV accuracy: 0.9691633148124872\n"
     ]
    }
   ],
   "source": [
    "\n",
    "from sklearn.svm import LinearSVC\n",
    "df = df.sample(frac=1)\n",
    "X_train, X_test, y_train, y_test = train_test_split(df.loc[:, df.columns != 'research'],df['research'],random_state=42)\n",
    "categorical= X_train.dtypes==object\n",
    "\n",
    "preprocess = make_column_transformer(\n",
    "    (OneHotEncoder(handle_unknown='ignore'), categorical),\n",
    "    (StandardScaler(),~categorical)\n",
    ")\n",
    "model_svc = make_pipeline(preprocess, LinearSVC())\n",
    "scores_svc = cross_val_score(model_svc, X_train, y_train, cv=5)\n",
    "print(\"Linear SVC(with default parameter) mean of CV accuracy: {}\".format(np.mean(scores_svc)))"
   ]
  },
  {
   "cell_type": "code",
   "execution_count": 238,
   "metadata": {},
   "outputs": [
    {
     "name": "stdout",
     "output_type": "stream",
     "text": [
      "The cross-validation strategy is regular cross validation.\n",
      "The best parameter for LinearSVC is: {'linearsvc__C': 0.31622776601683794}\n",
      "The best score for LinearSVC is: 0.9545\n"
     ]
    }
   ],
   "source": [
    "import warnings\n",
    "warnings.filterwarnings('ignore')\n",
    "from sklearn.model_selection import StratifiedKFold\n",
    "skfold = StratifiedKFold(n_splits=5, shuffle=True)\n",
    "param_svc= {'linearsvc__C': np.logspace(-3, 3, 13)}\n",
    "grid_svc = GridSearchCV(model_svc, param_svc, cv=5)\n",
    "grid_svc.fit(X_train, y_train)\n",
    "print(\"The cross-validation strategy is regular cross validation.\")\n",
    "print(\"The best parameter for LinearSVC is: {}\".format(grid_svc.best_params_))\n",
    "print(\"The best score for LinearSVC is: {}\".format(grid_svc.best_score_))"
   ]
  },
  {
   "cell_type": "markdown",
   "metadata": {},
   "source": [
    "### Decision Tree:"
   ]
  },
  {
   "cell_type": "code",
   "execution_count": 213,
   "metadata": {},
   "outputs": [
    {
     "name": "stdout",
     "output_type": "stream",
     "text": [
      "Decision tree(with default parameter) mean of CV accuracy: 0.9391638550906402\n"
     ]
    }
   ],
   "source": [
    "from sklearn.tree import DecisionTreeClassifier\n",
    "model_tree = make_pipeline(preprocess, DecisionTreeClassifier(random_state=0))\n",
    "scores_tree = cross_val_score(model_tree, X_train, y_train, cv=5)\n",
    "print(\"Decision tree(with default parameter) mean of CV accuracy: {}\".format(np.mean(scores_tree)))"
   ]
  },
  {
   "cell_type": "code",
   "execution_count": 214,
   "metadata": {},
   "outputs": [
    {
     "name": "stdout",
     "output_type": "stream",
     "text": [
      "The cross-validation strategy is regular cross validation.\n",
      "The best parameter for Decision tree is: {'decisiontreeclassifier__max_depth': 6}\n",
      "The best score for Decision tree is: 0.897\n"
     ]
    }
   ],
   "source": [
    "param_tree = {'decisiontreeclassifier__max_depth': range(1, 7)}\n",
    "grid_tree = GridSearchCV(model_tree, param_tree, cv=5)\n",
    "grid_tree.fit(X_train, y_train)\n",
    "print(\"The cross-validation strategy is regular cross validation.\")\n",
    "print(\"The best parameter for Decision tree is: {}\".format(grid_tree.best_params_))\n",
    "print(\"The best score for Decision tree is: {}\".format(grid_tree.best_score_))"
   ]
  },
  {
   "cell_type": "markdown",
   "metadata": {},
   "source": [
    "### Random Forest:"
   ]
  },
  {
   "cell_type": "code",
   "execution_count": 215,
   "metadata": {},
   "outputs": [
    {
     "name": "stdout",
     "output_type": "stream",
     "text": [
      "Random Forest(with default parameter) mean of CV accuracy: 0.9373307983778693\n"
     ]
    }
   ],
   "source": [
    "from sklearn.ensemble import RandomForestClassifier\n",
    "model_rf = make_pipeline(preprocess, RandomForestClassifier())\n",
    "scores_rf = cross_val_score(model_rf, X_train, y_train, cv=5)\n",
    "print(\"Random Forest(with default parameter) mean of CV accuracy: {}\".format(np.mean(scores_rf)))"
   ]
  },
  {
   "cell_type": "code",
   "execution_count": 216,
   "metadata": {},
   "outputs": [
    {
     "name": "stdout",
     "output_type": "stream",
     "text": [
      "The cross-validation strategy is stratified K-Fold method.\n",
      "The best parameter for Random Forest is: {'randomforestclassifier__max_depth': 7, 'randomforestclassifier__max_features': 61}\n",
      "The best score for Random Forest is: 0.8515\n"
     ]
    }
   ],
   "source": [
    "param_rf = {'randomforestclassifier__max_features': range(1, 64,5),'randomforestclassifier__max_depth':range(1,10)}\n",
    "grid_rf = GridSearchCV(model_rf, param_rf, cv=skfold)\n",
    "grid_rf.fit(X_train, y_train)\n",
    "print(\"The cross-validation strategy is stratified K-Fold method.\")\n",
    "print(\"The best parameter for Random Forest is: {}\".format(grid_rf.best_params_))\n",
    "print(\"The best score for Random Forest is: {}\".format(grid_rf.best_score_))"
   ]
  },
  {
   "cell_type": "markdown",
   "metadata": {},
   "source": [
    "### GradientBoosting Classifier(with One Hot Encoder):   "
   ]
  },
  {
   "cell_type": "code",
   "execution_count": 239,
   "metadata": {},
   "outputs": [
    {
     "name": "stdout",
     "output_type": "stream",
     "text": [
      "Gradient Boosting(with default parameter) mean of CV accuracy: 0.9428333333333334\n"
     ]
    }
   ],
   "source": [
    "from sklearn.ensemble import GradientBoostingClassifier\n",
    "model_gb = make_pipeline(preprocess, GradientBoostingClassifier())\n",
    "scores_gb = cross_val_score(model_gb, X_train, y_train, cv=5)\n",
    "print(\"Gradient Boosting(with default parameter) mean of CV accuracy: {}\".format(np.mean(scores_gb)))"
   ]
  },
  {
   "cell_type": "code",
   "execution_count": 240,
   "metadata": {},
   "outputs": [
    {
     "name": "stdout",
     "output_type": "stream",
     "text": [
      "The cross-validation strategy is stratified K-Fold method.\n",
      "The best parameter for Gradien Boosting is: {'gradientboostingclassifier__max_depth': 9, 'gradientboostingclassifier__max_features': 61}\n",
      "The best score for Gradient Boosting is: 0.9468333333333333\n"
     ]
    }
   ],
   "source": [
    "param_gb = {'gradientboostingclassifier__max_features': range(1, 64,5),'gradientboostingclassifier__max_depth':range(1,10)}\n",
    "grid_gb = GridSearchCV(model_gb, param_gb, cv=skfold)\n",
    "grid_gb.fit(X_train, y_train)\n",
    "print(\"The cross-validation strategy is stratified K-Fold method.\")\n",
    "print(\"The best parameter for Gradien Boosting is: {}\".format(grid_gb.best_params_))\n",
    "print(\"The best score for Gradient Boosting is: {}\".format(grid_gb.best_score_))"
   ]
  },
  {
   "cell_type": "markdown",
   "metadata": {},
   "source": [
    "### GradientBoosting Classifier(with Target Encoding): "
   ]
  },
  {
   "cell_type": "code",
   "execution_count": 242,
   "metadata": {},
   "outputs": [
    {
     "data": {
      "text/plain": [
       "Pipeline(memory=None,\n",
       "     steps=[('columntransformer', ColumnTransformer(n_jobs=None, remainder='drop', sparse_threshold=0.3,\n",
       "         transformer_weights=None,\n",
       "         transformers=[('onehotencoder', OneHotEncoder(categorical_features=None, categories=None,\n",
       "       dtype=<class 'numpy.float64'>, handle_unknown='ignore',\n",
       "   ...    subsample=1.0, tol=0.0001, validation_fraction=0.1,\n",
       "              verbose=0, warm_start=False))])"
      ]
     },
     "execution_count": 242,
     "metadata": {},
     "output_type": "execute_result"
    }
   ],
   "source": [
    "best_model=GradientBoostingClassifier(max_depth=grid_gb.best_params_['gradientboostingclassifier__max_depth'],\n",
    "                                      max_features=grid_gb.best_params_['gradientboostingclassifier__max_features'])\n",
    "best = make_pipeline(preprocess, best_model)\n",
    "best.fit(X_train, y_train)"
   ]
  },
  {
   "cell_type": "code",
   "execution_count": 334,
   "metadata": {},
   "outputs": [],
   "source": [
    "X_train, X_test, y_train, y_test = train_test_split(df_target_encode.loc[:, df_target_encode.columns != 'research'],df_target_encode['research'],random_state=42)\n"
   ]
  },
  {
   "cell_type": "code",
   "execution_count": 335,
   "metadata": {},
   "outputs": [
    {
     "name": "stdout",
     "output_type": "stream",
     "text": [
      "Gradient Boosting(with default parameter) mean of CV accuracy: 0.9901656887724689\n"
     ]
    }
   ],
   "source": [
    "from sklearn.ensemble import GradientBoostingClassifier\n",
    "model_gb = make_pipeline(preprocess, GradientBoostingClassifier())\n",
    "scores_gb = cross_val_score(model_gb, X_train, y_train, cv=5)\n",
    "print(\"Gradient Boosting(with default parameter) mean of CV accuracy: {}\".format(np.mean(scores_gb)))"
   ]
  },
  {
   "cell_type": "code",
   "execution_count": 338,
   "metadata": {},
   "outputs": [
    {
     "name": "stdout",
     "output_type": "stream",
     "text": [
      "The cross-validation strategy is stratified K-Fold method.\n",
      "The best parameter for Gradien Boosting is: {'gradientboostingclassifier__max_depth': 9}\n",
      "The best score for Gradient Boosting is: 0.9928333333333333\n"
     ]
    }
   ],
   "source": [
    "param_gb = {'gradientboostingclassifier__max_depth':range(1,10)}\n",
    "grid_gb = GridSearchCV(model_gb, param_gb, cv=skfold)\n",
    "grid_gb.fit(X_train, y_train)\n",
    "print(\"The cross-validation strategy is stratified K-Fold method.\")\n",
    "print(\"The best parameter for Gradien Boosting is: {}\".format(grid_gb.best_params_))\n",
    "print(\"The best score for Gradient Boosting is: {}\".format(grid_gb.best_score_))"
   ]
  },
  {
   "cell_type": "markdown",
   "metadata": {},
   "source": [
    "## Task 5："
   ]
  },
  {
   "cell_type": "code",
   "execution_count": 313,
   "metadata": {},
   "outputs": [
    {
     "data": {
      "text/plain": [
       "GradientBoostingClassifier(criterion='friedman_mse', init=None,\n",
       "              learning_rate=0.1, loss='deviance', max_depth=9,\n",
       "              max_features=None, max_leaf_nodes=None,\n",
       "              min_impurity_decrease=0.0, min_impurity_split=None,\n",
       "              min_samples_leaf=1, min_samples_split=2,\n",
       "              min_weight_fraction_leaf=0.0, n_estimators=100,\n",
       "              n_iter_no_change=None, presort='auto', random_state=None,\n",
       "              subsample=1.0, tol=0.0001, validation_fraction=0.1,\n",
       "              verbose=0, warm_start=False)"
      ]
     },
     "execution_count": 313,
     "metadata": {},
     "output_type": "execute_result"
    }
   ],
   "source": [
    "best=GradientBoostingClassifier(max_depth=9)\n",
    "\n",
    "best.fit(X_train, y_train)\n"
   ]
  },
  {
   "cell_type": "code",
   "execution_count": 314,
   "metadata": {},
   "outputs": [
    {
     "data": {
      "text/plain": [
       "['Applicable_Manufacturer_or_Applicable_GPO_Making_Payment_Country',\n",
       " 'Applicable_Manufacturer_or_Applicable_GPO_Making_Payment_ID',\n",
       " 'Applicable_Manufacturer_or_Applicable_GPO_Making_Payment_Name',\n",
       " 'Applicable_Manufacturer_or_Applicable_GPO_Making_Payment_State',\n",
       " 'Associated_Drug_or_Biological_NDC_1',\n",
       " 'Covered_or_Noncovered_Indicator_1',\n",
       " 'Date_of_Payment',\n",
       " 'Form_of_Payment_or_Transfer_of_Value',\n",
       " 'Indicate_Drug_or_Biological_or_Device_or_Medical_Supply_1',\n",
       " 'Name_of_Drug_or_Biological_or_Device_or_Medical_Supply_1',\n",
       " 'Product_Category_or_Therapeutic_Area_1',\n",
       " 'Recipient_City',\n",
       " 'Recipient_Zip_Code',\n",
       " 'Submitting_Applicable_Manufacturer_or_Applicable_GPO_Name',\n",
       " 'Total_Amount_of_Payment_USDollars']"
      ]
     },
     "execution_count": 314,
     "metadata": {},
     "output_type": "execute_result"
    }
   ],
   "source": [
    "list(df_target_encode)[:-1]"
   ]
  },
  {
   "cell_type": "markdown",
   "metadata": {},
   "source": [
    "### below is feature importance"
   ]
  },
  {
   "cell_type": "code",
   "execution_count": 315,
   "metadata": {},
   "outputs": [
    {
     "data": {
      "image/png": "[encoded data removed]",
      "text/plain": [
       "<Figure size 1800x720 with 1 Axes>"
      ]
     },
     "metadata": {},
     "output_type": "display_data"
    }
   ],
   "source": [
    "coef=best.feature_importances_\n",
    "feature=list(df_target_encode)[:-1]\n",
    "fig, axes = plt.subplots(figsize=(8, 12))\n",
    "plt.scatter(range(len(coef)),coef.reshape(-1,1))\n",
    "plt.xlabel(\"Features\")\n",
    "plt.ylabel(\"Coefficient\")\n",
    "fig.set_size_inches(25, 10)"
   ]
  },
  {
   "cell_type": "code",
   "execution_count": 321,
   "metadata": {},
   "outputs": [
    {
     "data": {
      "text/plain": [
       "Text(0.5,1,'Feature Importantce for Gradient Boosting')"
      ]
     },
     "execution_count": 321,
     "metadata": {},
     "output_type": "execute_result"
    },
    {
     "data": {
      "image/png": "[encoded data removed]",
      "text/plain": [
       "<Figure size 864x864 with 1 Axes>"
      ]
     },
     "metadata": {},
     "output_type": "display_data"
    }
   ],
   "source": [
    "top_10_idx = np.argsort(coef)\n",
    "top_10_features= [feature3[i] for i in top_10_idx]\n",
    "top_10_coef=[coef[i] for i in top_10_idx]\n",
    "fig, axes = plt.subplots(figsize=(12, 12))\n",
    "plt.bar(top_10_features, top_10_coef, align='center')\n",
    "plt.xlabel('Feature')\n",
    "plt.xticks(rotation=90)\n",
    "plt.ylabel('Coef')\n",
    "plt.title('Feature Importantce for Gradient Boosting')"
   ]
  },
  {
   "cell_type": "markdown",
   "metadata": {},
   "source": [
    "### feature to be removed:"
   ]
  },
  {
   "cell_type": "code",
   "execution_count": 329,
   "metadata": {},
   "outputs": [
    {
     "name": "stdout",
     "output_type": "stream",
     "text": [
      "['Applicable_Manufacturer_or_Applicable_GPO_Making_Payment_Country', 'Indicate_Drug_or_Biological_or_Device_or_Medical_Supply_1', 'Covered_or_Noncovered_Indicator_1']\n"
     ]
    }
   ],
   "source": [
    "irrelevant=top_10_features[:3]\n",
    "df_test=df_target_encode\n",
    "df_test=df_test.drop(columns=irrelevant)\n",
    "print(irrelevant)"
   ]
  },
  {
   "cell_type": "code",
   "execution_count": 332,
   "metadata": {},
   "outputs": [
    {
     "name": "stdout",
     "output_type": "stream",
     "text": [
      "Gradient Boosting(with best parameter but without feature selection) mean of CV accuracy: 0.9893317989572677\n"
     ]
    }
   ],
   "source": [
    "X_train, X_test, y_train, y_test = train_test_split(df_target_encode.loc[:, df_target_encode.columns != 'research'],df_target_encode['research'],random_state=42)\n",
    "\n",
    "best=GradientBoostingClassifier(max_depth=9)\n",
    "scores_gb = cross_val_score(best, X_train, y_train, cv=5)\n",
    "print(\"Gradient Boosting(with best parameter but without feature selection) mean of CV accuracy: {}\".format(np.mean(scores_gb)))"
   ]
  },
  {
   "cell_type": "code",
   "execution_count": 333,
   "metadata": {},
   "outputs": [
    {
     "name": "stdout",
     "output_type": "stream",
     "text": [
      "Gradient Boosting(with default parameter and without irrelevant features) mean of CV accuracy: 0.9886651318276378\n"
     ]
    }
   ],
   "source": [
    "X_train, X_test, y_train, y_test = train_test_split(df_test.loc[:, df_test.columns != 'research'],df_test['research'],random_state=42)\n",
    "\n",
    "best=GradientBoostingClassifier(max_depth=9)\n",
    "scores_gb = cross_val_score(best, X_train, y_train, cv=5)\n",
    "print(\"Gradient Boosting(with best parameter and without irrelevant features) mean of CV accuracy: {}\".format(np.mean(scores_gb)))\n"
   ]
  },
  {
   "cell_type": "markdown",
   "metadata": {},
   "source": [
    "'Total_Amount_of_Payment_USDollars', 'Applicable_Manufacturer_or_Applicable_GPO_Making_Payment_Name', 'Name_of_Drug_or_Biological_or_Device_or_Medical_Supply_1', 'Recipient_Zip_Code' are top 4 most influential features. When we remove the three features with least importance, which are 'Applicable_Manufacturer_or_Applicable_GPO_Making_Payment_Country', 'Indicate_Drug_or_Biological_or_Device_or_Medical_Supply_1', 'Covered_or_Noncovered_Indicator_1', the result seems similar and even has a worse performance."
   ]
  },
  {
   "cell_type": "markdown",
   "metadata": {},
   "source": [
    "## Task 6:"
   ]
  },
  {
   "cell_type": "code",
   "execution_count": 360,
   "metadata": {},
   "outputs": [],
   "source": [
    "important=top_10_features[-4:]\n",
    "important.append('research')"
   ]
  },
  {
   "cell_type": "code",
   "execution_count": 361,
   "metadata": {},
   "outputs": [],
   "source": [
    "df_simple=df_target_encode"
   ]
  },
  {
   "cell_type": "code",
   "execution_count": 362,
   "metadata": {},
   "outputs": [],
   "source": [
    "df_simple=df_simple[important]"
   ]
  },
  {
   "cell_type": "code",
   "execution_count": 382,
   "metadata": {},
   "outputs": [
    {
     "name": "stdout",
     "output_type": "stream",
     "text": [
      "Decision tree(with default parameter) mean of CV accuracy: 0.9809988787029251\n"
     ]
    }
   ],
   "source": [
    "X_train, X_test, y_train, y_test = train_test_split(df_simple.loc[:, df_simple.columns != 'research'],df_simple['research'],random_state=42)\n",
    "\n",
    "model_tree = DecisionTreeClassifier(random_state=0)\n",
    "scores_tree = cross_val_score(model_tree, X_train, y_train, cv=5)\n",
    "print(\"Decision tree(with default parameter) mean of CV accuracy: {}\".format(np.mean(scores_tree)))\n",
    "\n"
   ]
  },
  {
   "cell_type": "markdown",
   "metadata": {},
   "source": [
    "### This is the decision tree model with top 4 imporant features. The accuracy score is also very good.\n"
   ]
  },
  {
   "cell_type": "markdown",
   "metadata": {},
   "source": [
    "Below are features we use in explainable model:\n",
    "'Total_Amount_of_Payment_USDollars', \n",
    "'Applicable_Manufacturer_or_Applicable_GPO_Making_Payment_Name',\n",
    "'Name_of_Drug_or_Biological_or_Device_or_Medical_Supply_1',\n",
    "'Recipient_Zip_Code'\n",
    "\n",
    "'Total_Amount_of_Payment_USDollars': a reasearch project is highly likely to be costly, so if this variavle is very high, then the payment is more likely to be made to a research project.\n",
    "\n",
    "'Applicable_Manufacturer_or_Applicable_GPO_Making_Payment_Name': this variable represents name of pharmaceutical company. Some pharmaceutical companies might tend to support research, thus make many patments to support research project.\n",
    "\n",
    "'Name_of_Drug_or_Biological_or_Device_or_Medical_Supply_1': some drug or devices are more likely to be used in research project. Thus payment about these drug or devices tends to be made to research project.\n",
    "\n",
    "'Recipient_Zip_Code': some organizations might do a lot research projects, and their addresses are fixed."
   ]
  },
  {
   "cell_type": "code",
   "execution_count": null,
   "metadata": {},
   "outputs": [],
   "source": []
  }
 ],
 "metadata": {
  "kernelspec": {
   "display_name": "py36",
   "language": "python",
   "name": "py36"
  },
  "language_info": {
   "codemirror_mode": {
    "name": "ipython",
    "version": 3
   },
   "file_extension": ".py",
   "mimetype": "text/x-python",
   "name": "python",
   "nbconvert_exporter": "python",
   "pygments_lexer": "ipython3",
   "version": "3.6.8"
  }
 },
 "nbformat": 4,
 "nbformat_minor": 2
}
